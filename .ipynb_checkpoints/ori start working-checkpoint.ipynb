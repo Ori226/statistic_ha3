{
 "cells": [
  {
   "cell_type": "code",
   "execution_count": 207,
   "metadata": {
    "collapsed": false
   },
   "outputs": [],
   "source": [
    "import pandas as pd\n",
    "import numpy as np\n",
    "import matplotlib.pyplot as plt\n",
    "df = pd.read_csv(\"haberman.csv\",header=None)\n",
    "df.columns = ['age','operation_year','LNM', 'survival_attribute']"
   ]
  },
  {
   "cell_type": "code",
   "execution_count": 187,
   "metadata": {
    "collapsed": false
   },
   "outputs": [],
   "source": [
    "def compute_all_correlration(data_x, data_y):\n",
    "    \"\"\"\n",
    "    The function compute Pearson, Spearman ans Kendall correlations.\n",
    "    In order to cacluate the p_value of the pearson test, it create a \n",
    "    permutation test with 5000 entries. The other p_values calculated by \n",
    "    the framework.\n",
    "    \"\"\"\n",
    "    r_value, temp_p = scipy.stats.pearsonr(data_x, data_y)\n",
    "    suffeled_r_value = []\n",
    "    for _ in range(5000):\n",
    "        shuf_r, _ = scipy.stats.pearsonr(data_x, np.random.permutation(data_y))\n",
    "        suffeled_r_value.append(shuf_r)\n",
    "    print \"Pearson r_value:{} , result percentile is:{} \".format(r_value, np.sum(suffeled_r_value > r_value)*1.0 / len(suffeled_r_value))\n",
    "    \n",
    "    \n",
    "    r_value, p_value = scipy.stats.spearmanr(data_x, data_y)\n",
    "    print (\"Spearman r_value:{}, p_value:{}\".format(r_value, p_value))\n",
    "    r_value, p_value = scipy.stats.kendalltau(data_x, data_y)\n",
    "    print (\"Kendall r_value:{}, p_value:{}\".format(r_value, p_value))    "
   ]
  },
  {
   "cell_type": "markdown",
   "metadata": {},
   "source": [
    "# Is there a difference in survival rates when comparing young patients to older patients?\n"
   ]
  },
  {
   "cell_type": "markdown",
   "metadata": {},
   "source": [
    "1. drawing the two groups"
   ]
  },
  {
   "cell_type": "code",
   "execution_count": 82,
   "metadata": {
    "collapsed": false,
    "scrolled": false
   },
   "outputs": [
    {
     "data": {
      "image/png": "[encoded data removed]",
      "text/plain": [
       "<matplotlib.figure.Figure at 0xbf69be0>"
      ]
     },
     "metadata": {},
     "output_type": "display_data"
    },
    {
     "name": "stdout",
     "output_type": "stream",
     "text": [
      "pvalue for non identical distribution is: 0.235957851268\n"
     ]
    }
   ],
   "source": [
    "# plot age against survival\n",
    "%matplotlib inline\n",
    "df['survived_age'] = df[df['survival_attribute'] == 1]['age']\n",
    "df['not_survived_age'] = df[df['survival_attribute'] == 2]['age']\n",
    "df['not_survived_age']\n",
    "sruviv_1_age = df[df['survival_attribute'] == 1]['age']\n",
    "sruviv_2_age = df[df['survival_attribute'] == 2]['age']\n",
    "bins = np.linspace(30, 85, 20)\n",
    "plt.hist(sruviv_1_age.values, bins, alpha=0.5, label='surv_1',normed=True)\n",
    "# plt.show()\n",
    "plt.hist(sruviv_2_age.values, bins, alpha=0.5, label='surv_2',normed=True)\n",
    "plt.show()\n",
    "import scipy.stats\n",
    "print (\"pvalue for non identical distribution is: {}\".format(scipy.stats.ttest_ind(sruviv_1_age.values, sruviv_2_age.values).pvalue))"
   ]
  },
  {
   "cell_type": "markdown",
   "metadata": {},
   "source": [
    "23.5% of the possible distribution are from the same distribution. This means that there is not a siginificant difference between the distributions"
   ]
  },
  {
   "cell_type": "markdown",
   "metadata": {},
   "source": [
    "# Is the patient’s age correlated with the number of LNMs?\n"
   ]
  },
  {
   "cell_type": "markdown",
   "metadata": {},
   "source": [
    "\n",
    "#### draw the two variables together:"
   ]
  },
  {
   "cell_type": "code",
   "execution_count": 87,
   "metadata": {
    "collapsed": false
   },
   "outputs": [
    {
     "data": {
      "text/plain": [
       "<matplotlib.collections.PathCollection at 0xaa0bf98>"
      ]
     },
     "execution_count": 87,
     "metadata": {},
     "output_type": "execute_result"
    },
    {
     "data": {
      "image/png": "[encoded data removed]",
      "text/plain": [
       "<matplotlib.figure.Figure at 0xd3dc9b0>"
      ]
     },
     "metadata": {},
     "output_type": "display_data"
    }
   ],
   "source": [
    "plt.scatter(df['age'].values*1.0/np.sum(df['age'].values), df['LNM'].values*1.0/np.sum(df['LNM'].values)) #,'operation_year','LNM'\n"
   ]
  },
  {
   "cell_type": "markdown",
   "metadata": {},
   "source": [
    "#### doing some correlation tests: (calculating the p value by permutation test)"
   ]
  },
  {
   "cell_type": "code",
   "execution_count": 188,
   "metadata": {
    "collapsed": false
   },
   "outputs": [
    {
     "name": "stdout",
     "output_type": "stream",
     "text": [
      "Pearson r_value:-0.0631761023898 , result percentile is:0.8586 \n",
      "Spearman r_value:-0.0976905425688, p_value:0.0880126630975\n",
      "Kendall r_value:-0.0704433190161, p_value:0.0660819893608\n"
     ]
    }
   ],
   "source": [
    "compute_all_correlration(df['age'].values, df['LNM'].values)\n"
   ]
  },
  {
   "cell_type": "markdown",
   "metadata": {},
   "source": [
    "The shuffeld test in the pearson correlation shows no significant result (~25% that we will get the result by chance).\n",
    "Spearman and Kendall show better significant but still not the \"golden\" 5%:"
   ]
  },
  {
   "cell_type": "markdown",
   "metadata": {},
   "source": [
    "### Have survival rates improved over the years?\n",
    "We now that in every year there were operation, some of it succeded and some of them did not. \n",
    "In order to answer the above question, we calculated the survival percentage over the years:\n",
    "\n",
    "\n"
   ]
  },
  {
   "cell_type": "code",
   "execution_count": 163,
   "metadata": {
    "collapsed": false
   },
   "outputs": [
    {
     "data": {
      "image/png": "[encoded data removed]",
      "text/plain": [
       "<matplotlib.figure.Figure at 0xcc05da0>"
      ]
     },
     "metadata": {},
     "output_type": "display_data"
    }
   ],
   "source": [
    "unique_total, counts_total = np.unique(df['operation_year'].values, return_counts=True)\n",
    "unique_survived, counts_survived =np.unique(df[df['survival_attribute'] == 1]['operation_year'].values, return_counts=True)\n",
    "survival_percentage = counts_survived*1.0/counts_total\n",
    "plt.scatter(unique_total,survival_percentage);plt.xlabel('year');plt.ylabel('survival percentage'); plt.show()\n",
    "\n",
    "\n"
   ]
  },
  {
   "cell_type": "code",
   "execution_count": 178,
   "metadata": {
    "collapsed": false
   },
   "outputs": [
    {
     "name": "stdout",
     "output_type": "stream",
     "text": [
      "0.84858523086\n",
      "The results percentile is:0.5772 \n",
      "Spearman collection r_value:-0.0315236910752, p_value:0.922524864522\n",
      "Kendall collection r_value:0.0458028612414, p_value:0.835780226617\n"
     ]
    }
   ],
   "source": [
    "compute_all_correlration(unique_total,survival_percentage)"
   ]
  },
  {
   "cell_type": "markdown",
   "metadata": {},
   "source": [
    " The results show no significant correlation between the operation year and the survival rate. From looking at the data, it doesn't look like there are some speacial outliers."
   ]
  },
  {
   "cell_type": "markdown",
   "metadata": {},
   "source": [
    "## Which was the best year? Is it statistically different from #2? From the worst one?\n"
   ]
  },
  {
   "cell_type": "code",
   "execution_count": 215,
   "metadata": {
    "collapsed": false
   },
   "outputs": [
    {
     "name": "stdout",
     "output_type": "stream",
     "text": [
      "The year:61 is the year with the max survival rate\n",
      "The year:60 is the year with the 2nd survival rate\n",
      "The year:65 is the year with the worst survival rate\n"
     ]
    }
   ],
   "source": [
    "years_sorted_by_survival =  unique_survived[np.argsort(survival_percentage)][::-1]\n",
    "\n",
    "print \"The year:{} is the year with the max survival rate\".format(years_sorted_by_survival[0])\n",
    "print \"The year:{} is the year with the 2nd survival rate\".format(years_sorted_by_survival[1])\n",
    "print \"The year:{} is the year with the worst survival rate\".format(years_sorted_by_survival[-1])\n"
   ]
  },
  {
   "cell_type": "markdown",
   "metadata": {},
   "source": [
    "#### Is it statistically different from #2? From the worst one?\n",
    "We can answer this question by asking the following question:\n",
    "We can run the Welch t-test in order to see if the two distribution is different.\n",
    "1. t-test of the year 61 vs the year 60:"
   ]
  },
  {
   "cell_type": "code",
   "execution_count": 222,
   "metadata": {
    "collapsed": false
   },
   "outputs": [
    {
     "name": "stdout",
     "output_type": "stream",
     "text": [
      "significant of best vs second best:0.769215476257\n",
      "significant of best vs worst:0.0043906136554\n"
     ]
    }
   ],
   "source": [
    "best_year_samples = df[df['operation_year'] == 61]['survival_attribute'].values\n",
    "second_best_samples = df[df['operation_year'] == 60]['survival_attribute'].values\n",
    "worst_best_samples = df[df['operation_year'] == 65]['survival_attribute'].values\n",
    "\n",
    "# df['operation_year'] \n",
    "print \"significant of best vs second best:{}\".format(scipy.stats.ttest_ind(best_year_samples, second_best_samples).pvalue)\n",
    "print \"significant of best vs worst:{}\".format(scipy.stats.ttest_ind(best_year_samples, worst_best_samples).pvalue)\n"
   ]
  },
  {
   "cell_type": "markdown",
   "metadata": {},
   "source": [
    "From the results above, we can see that the best year is not significantly better than the second best year (chance of 0.77% for random result). The best year is significantly better than the worst year (chance of 0.4% for random result)"
   ]
  },
  {
   "cell_type": "markdown",
   "metadata": {},
   "source": [
    "## Does the number of LNMs affect survival? Maybe it did in certain years and did not in others?\n",
    "In order to answer this question, we will start by checking the collection between the survival rate and the LMN.\n",
    "Second, We will do this test for each year separately.\n",
    "\n"
   ]
  },
  {
   "cell_type": "code",
   "execution_count": 238,
   "metadata": {
    "collapsed": false
   },
   "outputs": [
    {
     "data": {
      "image/png": "[encoded data removed]",
      "text/plain": [
       "<matplotlib.figure.Figure at 0xbab9a58>"
      ]
     },
     "metadata": {},
     "output_type": "display_data"
    }
   ],
   "source": [
    "data_groupby_LNM = df.groupby('LNM').mean()['survival_attribute']\n",
    "plt.scatter(data_groupby_LNM.index,2 - data_groupby_LNM.values)\n",
    "plt.xlabel('LNM'); plt.ylabel('Survival rate');"
   ]
  },
  {
   "cell_type": "markdown",
   "metadata": {},
   "source": [
    "From first look it is seems like until ~LNM = 16 there is some correlation. For LNM > 16 it looks less siginifcant. We will test it:\n"
   ]
  },
  {
   "cell_type": "code",
   "execution_count": 246,
   "metadata": {
    "collapsed": false
   },
   "outputs": [
    {
     "name": "stdout",
     "output_type": "stream",
     "text": [
      "correlation for LNM<16:\n",
      "Pearson r_value:0.60046412124 , result percentile is:0.0064 \n",
      "Spearman r_value:0.627775735344, p_value:0.00922306532273\n",
      "Kendall r_value:0.502241353148, p_value:0.00665845451216\n",
      "correlation for all:\n",
      "Pearson r_value:0.182468826101 , result percentile is:0.1652 \n",
      "Spearman r_value:0.144576236061, p_value:0.437762522049\n",
      "Kendall r_value:0.164210876288, p_value:0.194351481381\n"
     ]
    }
   ],
   "source": [
    "print \"correlation for LNM<16:\"\n",
    "compute_all_correlration(data_groupby_LNM[data_groupby_LNM.index < 16].index, data_groupby_LNM[data_groupby_LNM.index < 16].values)\n",
    "\n",
    "print \"correlation for all:\"\n",
    "compute_all_correlration(data_groupby_LNM.index, data_groupby_LNM.values)\n",
    "\n"
   ]
  },
  {
   "cell_type": "markdown",
   "metadata": {},
   "source": [
    "The number seems to support the hypothesis.\n",
    "\n",
    "Now, we will check the correlation for each year sepearately:\n",
    "\n",
    "\n",
    "\n"
   ]
  },
  {
   "cell_type": "code",
   "execution_count": 263,
   "metadata": {
    "collapsed": false
   },
   "outputs": [
    {
     "name": "stdout",
     "output_type": "stream",
     "text": [
      "year:58\n",
      "Pearson r_value:0.242604811058 , result percentile is:0.2718 \n",
      "Spearman r_value:0.284463600888, p_value:0.425691561007\n",
      "Kendall r_value:0.233549683248, p_value:0.347207652178\n",
      "year:59\n",
      "Pearson r_value:0.354761535048 , result percentile is:0.1582 \n",
      "Spearman r_value:0.111851788143, p_value:0.758362399129\n",
      "Kendall r_value:0.0803219328902, p_value:0.746475978669\n",
      "year:60\n",
      "Pearson r_value:0.647978160164 , result percentile is:0.0314 \n",
      "Spearman r_value:0.478543967681, p_value:0.161767348824\n",
      "Kendall r_value:0.372953951857, p_value:0.133326942103\n",
      "year:61\n",
      "Pearson r_value:-0.10585136094 , result percentile is:0.5432 \n",
      "Spearman r_value:-0.0414302468352, p_value:0.898275733198\n",
      "Kendall r_value:-0.0228575160441, p_value:0.917607201225\n",
      "year:62\n",
      "Pearson r_value:0.567973534065 , result percentile is:0.0432 \n",
      "Spearman r_value:0.484881137876, p_value:0.155488954782\n",
      "Kendall r_value:0.389249472081, p_value:0.117185096946\n",
      "year:63\n",
      "Pearson r_value:0.756037705932 , result percentile is:0.0068 \n",
      "Spearman r_value:0.598019643872, p_value:0.051976486859\n",
      "Kendall r_value:0.462317395019, p_value:0.0477569537845\n",
      "year:64\n",
      "Pearson r_value:0.233056033141 , result percentile is:0.2408 \n",
      "Spearman r_value:0.0350790167819, p_value:0.918445842876\n",
      "Kendall r_value:0.0221675549261, p_value:0.924381708937\n",
      "year:65\n",
      "Pearson r_value:0.1766010074 , result percentile is:0.2938 \n",
      "Spearman r_value:0.227157595822, p_value:0.45545975859\n",
      "Kendall r_value:0.181675537955, p_value:0.387292343345\n",
      "year:66\n",
      "Pearson r_value:-0.0137877398226 , result percentile is:0.514 \n",
      "Spearman r_value:-0.0902031860105, p_value:0.791969542857\n",
      "Kendall r_value:-0.0665026647782, p_value:0.775837680023\n",
      "year:67\n",
      "Pearson r_value:-0.146804731463 , result percentile is:0.5344 \n",
      "Spearman r_value:-0.127801930085, p_value:0.743161784059\n",
      "Kendall r_value:-0.0653720450461, p_value:0.806179060899\n",
      "year:68\n",
      "Pearson r_value:0.557751907686 , result percentile is:0.101 \n",
      "Spearman r_value:0.487950036474, p_value:0.326164235345\n",
      "Kendall r_value:0.430331482912, p_value:0.225252918701\n",
      "year:69\n",
      "Pearson r_value:0.0142702510904 , result percentile is:0.5352 \n",
      "Spearman r_value:-0.0996023841112, p_value:0.831747232825\n",
      "Kendall r_value:-0.116642368704, p_value:0.712960033874\n"
     ]
    }
   ],
   "source": [
    "differenet_years =  df['operation_year'].unique()#.groupby('LNM').mean()['survival_attribute']\n",
    "differenet_years.sort()\n",
    "differenet_years\n",
    "\n",
    "\n",
    "for year in differenet_years:\n",
    "    print \"year:{}\".format(year)\n",
    "    data_per_year = df[df['operation_year']==year].groupby('LNM').mean()['survival_attribute']\n",
    "    compute_all_correlration(data_per_year.index,data_per_year.values)\n",
    "    "
   ]
  },
  {
   "cell_type": "markdown",
   "metadata": {},
   "source": [
    "We can see significat cant correlation (by pearson + permutation test) on the years 60,62 and 63:\n",
    "\n",
    "year:60\n",
    "* Pearson r_value:0.647978160164 , result percentile is:0.0314 \n",
    "* Spearman r_value:0.478543967681, p_value:0.161767348824\n",
    "* Kendall r_value:0.372953951857, p_value:0.133326942103\n",
    "\n",
    "\n",
    "year:62\n",
    "* Pearson r_value:0.567973534065 , result percentile is:0.0432 \n",
    "* Spearman r_value:0.484881137876, p_value:0.155488954782\n",
    "* Kendall r_value:0.389249472081, p_value:0.117185096946\n",
    "\n",
    "year:63\n",
    "* Pearson r_value:0.756037705932 , result percentile is:0.0068 \n",
    "* Spearman r_value:0.598019643872, p_value:0.051976486859\n",
    "* Kendall r_value:0.462317395019, p_value:0.0477569537845\n",
    "\n"
   ]
  },
  {
   "cell_type": "markdown",
   "metadata": {},
   "source": [
    "## What is the best distribution fit to the number of LNMs?\n",
    "When plotting the distribution, we can see that it doesn't look like normal distribution:\n"
   ]
  },
  {
   "cell_type": "code",
   "execution_count": 271,
   "metadata": {
    "collapsed": false
   },
   "outputs": [
    {
     "data": {
      "image/png": "[encoded data removed]",
      "text/plain": [
       "<matplotlib.figure.Figure at 0x10aeb4e0>"
      ]
     },
     "metadata": {},
     "output_type": "display_data"
    },
    {
     "data": {
      "image/png": "[encoded data removed]",
      "text/plain": [
       "<matplotlib.figure.Figure at 0x10aeb6a0>"
      ]
     },
     "metadata": {},
     "output_type": "display_data"
    }
   ],
   "source": [
    "\n",
    "df['LNM'].hist();plt.title('LNM distribution') ;plt.show();\n",
    "\n",
    "df['LNM'][df['LNM'] > 0].hist();plt.title('LNM distribution when LNM > 0') ;plt.show();"
   ]
  },
  {
   "cell_type": "markdown",
   "metadata": {},
   "source": [
    "So. the possible disributions:\n",
    "* Poisson\n",
    "* Log Normal\n",
    "*"
   ]
  }
 ],
 "metadata": {
  "kernelspec": {
   "display_name": "Python normal",
   "language": "python",
   "name": "python_keras_b"
  },
  "language_info": {
   "codemirror_mode": {
    "name": "ipython",
    "version": 2
   },
   "file_extension": ".py",
   "mimetype": "text/x-python",
   "name": "python",
   "nbconvert_exporter": "python",
   "pygments_lexer": "ipython2",
   "version": "2.7.12"
  }
 },
 "nbformat": 4,
 "nbformat_minor": 0
}
