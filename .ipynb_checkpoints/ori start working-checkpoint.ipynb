{
 "cells": [
  {
   "cell_type": "code",
   "execution_count": 207,
   "metadata": {
    "collapsed": false
   },
   "outputs": [],
   "source": [
    "import pandas as pd\n",
    "import numpy as np\n",
    "import matplotlib.pyplot as plt\n",
    "df = pd.read_csv(\"haberman.csv\",header=None)\n",
    "df.columns = ['age','operation_year','LNM', 'survival_attribute']"
   ]
  },
  {
   "cell_type": "code",
   "execution_count": 187,
   "metadata": {
    "collapsed": false
   },
   "outputs": [],
   "source": [
    "def compute_all_correlration(data_x, data_y):\n",
    "    \"\"\"\n",
    "    The function compute Pearson, Spearman ans Kendall correlations.\n",
    "    In order to cacluate the p_value of the pearson test, it create a \n",
    "    permutation test with 5000 entries. The other p_values calculated by \n",
    "    the framework.\n",
    "    \"\"\"\n",
    "    r_value, temp_p = scipy.stats.pearsonr(data_x, data_y)\n",
    "    suffeled_r_value = []\n",
    "    for _ in range(5000):\n",
    "        shuf_r, _ = scipy.stats.pearsonr(data_x, np.random.permutation(data_y))\n",
    "        suffeled_r_value.append(shuf_r)\n",
    "    print \"Pearson r_value:{} , result percentile is:{} \".format(r_value, np.sum(suffeled_r_value > r_value)*1.0 / len(suffeled_r_value))\n",
    "    \n",
    "    \n",
    "    r_value, p_value = scipy.stats.spearmanr(data_x, data_y)\n",
    "    print (\"Spearman r_value:{}, p_value:{}\".format(r_value, p_value))\n",
    "    r_value, p_value = scipy.stats.kendalltau(data_x, data_y)\n",
    "    print (\"Kendall r_value:{}, p_value:{}\".format(r_value, p_value))    "
   ]
  },
  {
   "cell_type": "markdown",
   "metadata": {},
   "source": [
    "# Is there a difference in survival rates when comparing young patients to older patients?\n"
   ]
  },
  {
   "cell_type": "markdown",
   "metadata": {},
   "source": [
    "1. drawing the two groups"
   ]
  },
  {
   "cell_type": "code",
   "execution_count": 82,
   "metadata": {
    "collapsed": false,
    "scrolled": false
   },
   "outputs": [
    {
     "data": {
      "image/png": "[encoded data removed]",
      "text/plain": [
       "<matplotlib.figure.Figure at 0xbf69be0>"
      ]
     },
     "metadata": {},
     "output_type": "display_data"
    },
    {
     "name": "stdout",
     "output_type": "stream",
     "text": [
      "pvalue for non identical distribution is: 0.235957851268\n"
     ]
    }
   ],
   "source": [
    "# plot age against survival\n",
    "%matplotlib inline\n",
    "df['survived_age'] = df[df['survival_attribute'] == 1]['age']\n",
    "df['not_survived_age'] = df[df['survival_attribute'] == 2]['age']\n",
    "df['not_survived_age']\n",
    "sruviv_1_age = df[df['survival_attribute'] == 1]['age']\n",
    "sruviv_2_age = df[df['survival_attribute'] == 2]['age']\n",
    "bins = np.linspace(30, 85, 20)\n",
    "plt.hist(sruviv_1_age.values, bins, alpha=0.5, label='surv_1',normed=True)\n",
    "# plt.show()\n",
    "plt.hist(sruviv_2_age.values, bins, alpha=0.5, label='surv_2',normed=True)\n",
    "plt.show()\n",
    "import scipy.stats\n",
    "print (\"pvalue for non identical distribution is: {}\".format(scipy.stats.ttest_ind(sruviv_1_age.values, sruviv_2_age.values).pvalue))"
   ]
  },
  {
   "cell_type": "markdown",
   "metadata": {},
   "source": [
    "23.5% of the possible distribution are from the same distribution. This means that there is not a siginificant difference between the distributions"
   ]
  },
  {
   "cell_type": "markdown",
   "metadata": {},
   "source": [
    "# Is the patient’s age correlated with the number of LNMs?\n"
   ]
  },
  {
   "cell_type": "markdown",
   "metadata": {},
   "source": [
    "\n",
    "#### draw the two variables together:"
   ]
  },
  {
   "cell_type": "code",
   "execution_count": 87,
   "metadata": {
    "collapsed": false
   },
   "outputs": [
    {
     "data": {
      "text/plain": [
       "<matplotlib.collections.PathCollection at 0xaa0bf98>"
      ]
     },
     "execution_count": 87,
     "metadata": {},
     "output_type": "execute_result"
    },
    {
     "data": {
      "image/png": "[encoded data removed]",
      "text/plain": [
       "<matplotlib.figure.Figure at 0xd3dc9b0>"
      ]
     },
     "metadata": {},
     "output_type": "display_data"
    }
   ],
   "source": [
    "plt.scatter(df['age'].values*1.0/np.sum(df['age'].values), df['LNM'].values*1.0/np.sum(df['LNM'].values)) #,'operation_year','LNM'\n"
   ]
  },
  {
   "cell_type": "markdown",
   "metadata": {},
   "source": [
    "#### doing some correlation tests: (calculating the p value by permutation test)"
   ]
  },
  {
   "cell_type": "code",
   "execution_count": 188,
   "metadata": {
    "collapsed": false
   },
   "outputs": [
    {
     "name": "stdout",
     "output_type": "stream",
     "text": [
      "Pearson r_value:-0.0631761023898 , result percentile is:0.8586 \n",
      "Spearman r_value:-0.0976905425688, p_value:0.0880126630975\n",
      "Kendall r_value:-0.0704433190161, p_value:0.0660819893608\n"
     ]
    }
   ],
   "source": [
    "compute_all_correlration(df['age'].values, df['LNM'].values)\n"
   ]
  },
  {
   "cell_type": "markdown",
   "metadata": {},
   "source": [
    "The shuffeld test in the pearson correlation shows no significant result (~25% that we will get the result by chance).\n",
    "Spearman and Kendall show better significant but still not the \"golden\" 5%:"
   ]
  },
  {
   "cell_type": "markdown",
   "metadata": {},
   "source": [
    "### Have survival rates improved over the years?\n",
    "We now that in every year there were operation, some of it succeded and some of them did not. \n",
    "In order to answer the above question, we calculated the survival percentage over the years:\n",
    "\n",
    "\n"
   ]
  },
  {
   "cell_type": "code",
   "execution_count": 163,
   "metadata": {
    "collapsed": false
   },
   "outputs": [
    {
     "data": {
      "image/png": "[encoded data removed]",
      "text/plain": [
       "<matplotlib.figure.Figure at 0xcc05da0>"
      ]
     },
     "metadata": {},
     "output_type": "display_data"
    }
   ],
   "source": [
    "unique_total, counts_total = np.unique(df['operation_year'].values, return_counts=True)\n",
    "unique_survived, counts_survived =np.unique(df[df['survival_attribute'] == 1]['operation_year'].values, return_counts=True)\n",
    "survival_percentage = counts_survived*1.0/counts_total\n",
    "plt.scatter(unique_total,survival_percentage);plt.xlabel('year');plt.ylabel('survival percentage'); plt.show()\n",
    "\n",
    "\n"
   ]
  },
  {
   "cell_type": "code",
   "execution_count": 178,
   "metadata": {
    "collapsed": false
   },
   "outputs": [
    {
     "name": "stdout",
     "output_type": "stream",
     "text": [
      "0.84858523086\n",
      "The results percentile is:0.5772 \n",
      "Spearman collection r_value:-0.0315236910752, p_value:0.922524864522\n",
      "Kendall collection r_value:0.0458028612414, p_value:0.835780226617\n"
     ]
    }
   ],
   "source": [
    "compute_all_correlration(unique_total,survival_percentage)"
   ]
  },
  {
   "cell_type": "markdown",
   "metadata": {},
   "source": [
    " The results show no significant correlation between the operation year and the survival rate. From looking at the data, it doesn't look like there are some speacial outliers."
   ]
  },
  {
   "cell_type": "markdown",
   "metadata": {},
   "source": [
    "## Which was the best year? Is it statistically different from #2? From the worst one?\n"
   ]
  },
  {
   "cell_type": "code",
   "execution_count": 215,
   "metadata": {
    "collapsed": false
   },
   "outputs": [
    {
     "name": "stdout",
     "output_type": "stream",
     "text": [
      "The year:61 is the year with the max survival rate\n",
      "The year:60 is the year with the 2nd survival rate\n",
      "The year:65 is the year with the worst survival rate\n"
     ]
    }
   ],
   "source": [
    "years_sorted_by_survival =  unique_survived[np.argsort(survival_percentage)][::-1]\n",
    "\n",
    "print \"The year:{} is the year with the max survival rate\".format(years_sorted_by_survival[0])\n",
    "print \"The year:{} is the year with the 2nd survival rate\".format(years_sorted_by_survival[1])\n",
    "print \"The year:{} is the year with the worst survival rate\".format(years_sorted_by_survival[-1])\n"
   ]
  },
  {
   "cell_type": "markdown",
   "metadata": {},
   "source": [
    "#### Is it statistically different from #2? From the worst one?\n",
    "We can answer this question by asking the following question:\n",
    "We can run the Welch t-test in order to see if the two distribution is different.\n",
    "1. t-test of the year 61 vs the year 60:"
   ]
  },
  {
   "cell_type": "code",
   "execution_count": 222,
   "metadata": {
    "collapsed": false
   },
   "outputs": [
    {
     "name": "stdout",
     "output_type": "stream",
     "text": [
      "significant of best vs second best:0.769215476257\n",
      "significant of best vs worst:0.0043906136554\n"
     ]
    }
   ],
   "source": [
    "best_year_samples = df[df['operation_year'] == 61]['survival_attribute'].values\n",
    "second_best_samples = df[df['operation_year'] == 60]['survival_attribute'].values\n",
    "worst_best_samples = df[df['operation_year'] == 65]['survival_attribute'].values\n",
    "\n",
    "# df['operation_year'] \n",
    "print \"significant of best vs second best:{}\".format(scipy.stats.ttest_ind(best_year_samples, second_best_samples).pvalue)\n",
    "print \"significant of best vs worst:{}\".format(scipy.stats.ttest_ind(best_year_samples, worst_best_samples).pvalue)\n"
   ]
  },
  {
   "cell_type": "markdown",
   "metadata": {},
   "source": [
    "From the results above, we can see that the best year is not significantly better than the second best year (chance of 0.77% for random result). The best year is significantly better than the worst year (chance of 0.4% for random result)"
   ]
  },
  {
   "cell_type": "code",
   "execution_count": 218,
   "metadata": {
    "collapsed": false
   },
   "outputs": [
    {
     "name": "stdout",
     "output_type": "stream",
     "text": [
      "Ttest_indResult(statistic=-2.9787047318006237, pvalue=0.004390613655404425)\n"
     ]
    }
   ],
   "source": []
  },
  {
   "cell_type": "code",
   "execution_count": 198,
   "metadata": {
    "collapsed": false
   },
   "outputs": [
    {
     "data": {
      "image/png": "[encoded data removed]",
      "text/plain": [
       "<matplotlib.figure.Figure at 0xe4c46d8>"
      ]
     },
     "metadata": {},
     "output_type": "display_data"
    }
   ],
   "source": [
    "from scipy.stats import t\n",
    "import matplotlib.pyplot as plt\n",
    "fig, ax = plt.subplots(1, 1)\n",
    "df = 2.74335149908\n",
    "mean, var, skew, kurt = t.stats(df, moments='mvsk')"
   ]
  },
  {
   "cell_type": "code",
   "execution_count": 200,
   "metadata": {
    "collapsed": false
   },
   "outputs": [
    {
     "data": {
      "text/plain": [
       "(array([36, 27, 28, 26, 23, 30, 31, 28, 28, 25, 13, 11], dtype=int64),\n",
       " array([24, 18, 24, 23, 16, 22, 23, 15, 22, 21, 10,  7], dtype=int64))"
      ]
     },
     "execution_count": 200,
     "metadata": {},
     "output_type": "execute_result"
    }
   ],
   "source": [
    "\n",
    "counts_total, counts_survived"
   ]
  },
  {
   "cell_type": "code",
   "execution_count": null,
   "metadata": {
    "collapsed": true
   },
   "outputs": [],
   "source": []
  }
 ],
 "metadata": {
  "kernelspec": {
   "display_name": "Python normal",
   "language": "python",
   "name": "python_keras_b"
  },
  "language_info": {
   "codemirror_mode": {
    "name": "ipython",
    "version": 2
   },
   "file_extension": ".py",
   "mimetype": "text/x-python",
   "name": "python",
   "nbconvert_exporter": "python",
   "pygments_lexer": "ipython2",
   "version": "2.7.12"
  }
 },
 "nbformat": 4,
 "nbformat_minor": 0
}
